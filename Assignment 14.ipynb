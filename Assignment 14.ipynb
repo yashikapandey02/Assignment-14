{
 "cells": [
  {
   "cell_type": "code",
   "execution_count": null,
   "id": "a4843c7e",
   "metadata": {},
   "outputs": [],
   "source": [
    "1. What does RGBA stand for?"
   ]
  },
  {
   "cell_type": "code",
   "execution_count": null,
   "id": "a39ddfbe",
   "metadata": {},
   "outputs": [],
   "source": [
    "Ans: RGBA color values are an extension of RGB color values with an alpha channel - which specifies the opacity for a color.\n",
    "    An RGBA color value is specified with: rgba(red, green, blue, alpha)."
   ]
  },
  {
   "cell_type": "code",
   "execution_count": null,
   "id": "42009d60",
   "metadata": {},
   "outputs": [],
   "source": [
    "2. From the Pillow module, how do you get the RGBA value of any images?"
   ]
  },
  {
   "cell_type": "code",
   "execution_count": null,
   "id": "ef2aa656",
   "metadata": {},
   "outputs": [],
   "source": [
    "Ans: A function call to ImageColor.getcolor('CornflowerBlue', 'RGBA') will return (100, 149, 237, 255),\n",
    "    the RGBA value for that color."
   ]
  },
  {
   "cell_type": "code",
   "execution_count": null,
   "id": "bfe7247b",
   "metadata": {},
   "outputs": [],
   "source": [
    "3. What is a box tuple, and how does it work?"
   ]
  },
  {
   "cell_type": "code",
   "execution_count": null,
   "id": "88af7fa1",
   "metadata": {},
   "outputs": [],
   "source": [
    "Ans: A box tuple is a tuple value of four integers: the left-edge x-coordinate, the top-edge y-coordinate, the width, \n",
    "    and the height, respectively."
   ]
  },
  {
   "cell_type": "code",
   "execution_count": null,
   "id": "d719a455",
   "metadata": {},
   "outputs": [],
   "source": [
    "4. Use your image and load in notebook then, How can you find out the width and height of an Image object?"
   ]
  },
  {
   "cell_type": "code",
   "execution_count": null,
   "id": "c76d8f43",
   "metadata": {},
   "outputs": [],
   "source": [
    "Ans: img.size is a tuple of two integers, the width and the height."
   ]
  },
  {
   "cell_type": "code",
   "execution_count": 10,
   "id": "8b257c81",
   "metadata": {
    "scrolled": true
   },
   "outputs": [
    {
     "name": "stdout",
     "output_type": "stream",
     "text": [
      "(3072, 2304)\n"
     ]
    }
   ],
   "source": [
    "import urllib.request\n",
    "from PIL import Image\n",
    "urllib.request.urlretrieve(\"https://i.natgeofe.com/k/9acd2bad-fb0e-43a8-935d-ec0aefc60c2f/monarch-butterfly-grass_4x3.jpg\", \"btfly.jpg\");\n",
    "img = Image.open(\"btfly.jpg\")\n",
    "print(img.size)"
   ]
  },
  {
   "cell_type": "code",
   "execution_count": null,
   "id": "17610636",
   "metadata": {},
   "outputs": [],
   "source": [
    "5.What method would you call to get Image object for a 100×100 image, excluding the lower-left quarter of it?"
   ]
  },
  {
   "cell_type": "code",
   "execution_count": null,
   "id": "00b7188f",
   "metadata": {},
   "outputs": [],
   "source": [
    "Ans:img.crop((0, 50, 50, 50))"
   ]
  },
  {
   "cell_type": "markdown",
   "id": "4ea797cc",
   "metadata": {},
   "source": [
    "###### "
   ]
  },
  {
   "cell_type": "code",
   "execution_count": null,
   "id": "93fd5892",
   "metadata": {},
   "outputs": [],
   "source": [
    "6.After making changes to an Image object, how could you save it as an image file?"
   ]
  },
  {
   "cell_type": "code",
   "execution_count": null,
   "id": "ee40354b",
   "metadata": {},
   "outputs": [],
   "source": [
    "Ans: Call the img.save('newimg.jpg') method of the Image object."
   ]
  },
  {
   "cell_type": "code",
   "execution_count": null,
   "id": "ffc40de6",
   "metadata": {},
   "outputs": [],
   "source": [
    "7.What module contains Pillow’s shape-drawing code?"
   ]
  },
  {
   "cell_type": "code",
   "execution_count": null,
   "id": "ec89eab4",
   "metadata": {},
   "outputs": [],
   "source": [
    "Ans: The ImageDraw module"
   ]
  },
  {
   "cell_type": "code",
   "execution_count": null,
   "id": "6069714b",
   "metadata": {},
   "outputs": [],
   "source": [
    "8.Image objects do not have drawing methods. What kind of object does? How do you get this kind of object?"
   ]
  },
  {
   "cell_type": "code",
   "execution_count": null,
   "id": "43fd1320",
   "metadata": {},
   "outputs": [],
   "source": [
    "Ans: ImageDraw objects have shape-drawing methods such as point(), line(), or rectangle(). \n",
    "    They are returned by passing the Image object to the ImageDraw.Draw() function."
   ]
  }
 ],
 "metadata": {
  "kernelspec": {
   "display_name": "Python 3 (ipykernel)",
   "language": "python",
   "name": "python3"
  },
  "language_info": {
   "codemirror_mode": {
    "name": "ipython",
    "version": 3
   },
   "file_extension": ".py",
   "mimetype": "text/x-python",
   "name": "python",
   "nbconvert_exporter": "python",
   "pygments_lexer": "ipython3",
   "version": "3.9.7"
  }
 },
 "nbformat": 4,
 "nbformat_minor": 5
}
